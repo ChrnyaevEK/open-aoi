{
 "cells": [
  {
   "cell_type": "code",
   "execution_count": null,
   "metadata": {},
   "outputs": [],
   "source": [
    "import roslibpy\n",
    "import base64\n",
    "import pickle\n",
    "from skimage.io import imshow"
   ]
  },
  {
   "cell_type": "code",
   "execution_count": null,
   "metadata": {},
   "outputs": [],
   "source": [
    "ros = roslibpy.Ros(host=\"localhost\", port=9090)\n",
    "ros.on_ready(lambda: print(f\"Status: {ros.is_connected}\"))\n",
    "ros.run()"
   ]
  },
  {
   "cell_type": "code",
   "execution_count": null,
   "metadata": {},
   "outputs": [],
   "source": [
    "service = roslibpy.Service(ros, '/image_acquisition/acquire_image', 'open_aoi_interfaces/ServiceStatus')\n",
    "request = roslibpy.ServiceRequest()\n",
    "response = service.call(request, timeout=10)\n",
    "imshow(pickle.loads(base64.decodebytes(response['image']['data'].encode())))"
   ]
  },
  {
   "cell_type": "code",
   "execution_count": null,
   "metadata": {},
   "outputs": [],
   "source": [
    "ros.get_service_type('/image_acquisition/list_parameters')"
   ]
  },
  {
   "cell_type": "code",
   "execution_count": 26,
   "metadata": {},
   "outputs": [],
   "source": [
    "service = roslibpy.Service(ros, '/image_acquisition/list_parameters', 'rcl_interfaces/srv/ListParameters')\n",
    "request = roslibpy.ServiceRequest()"
   ]
  },
  {
   "cell_type": "code",
   "execution_count": 27,
   "metadata": {},
   "outputs": [],
   "source": [
    "ros.set_param('image_acquisition:camera_emulation_mode', True)"
   ]
  }
 ],
 "metadata": {
  "kernelspec": {
   "display_name": "venv",
   "language": "python",
   "name": "python3"
  },
  "language_info": {
   "codemirror_mode": {
    "name": "ipython",
    "version": 3
   },
   "file_extension": ".py",
   "mimetype": "text/x-python",
   "name": "python",
   "nbconvert_exporter": "python",
   "pygments_lexer": "ipython3",
   "version": "3.10.13"
  }
 },
 "nbformat": 4,
 "nbformat_minor": 2
}
