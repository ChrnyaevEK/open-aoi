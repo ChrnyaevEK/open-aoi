{
 "cells": [
  {
   "cell_type": "code",
   "execution_count": 1,
   "metadata": {},
   "outputs": [],
   "source": [
    "import roslibpy\n",
    "import base64\n",
    "import pickle\n",
    "from skimage.io import imshow"
   ]
  },
  {
   "cell_type": "code",
   "execution_count": 2,
   "metadata": {},
   "outputs": [
    {
     "name": "stdout",
     "output_type": "stream",
     "text": [
      "Status: True\n"
     ]
    }
   ],
   "source": [
    "ros = roslibpy.Ros(host=\"localhost\", port=9090)\n",
    "ros.on_ready(lambda: print(f\"Status: {ros.is_connected}\"))\n",
    "ros.run()"
   ]
  },
  {
   "cell_type": "code",
   "execution_count": 18,
   "metadata": {},
   "outputs": [],
   "source": [
    "service = roslibpy.Service(ros, '/image_acquisition/acquire_image', 'open_aoi_interfaces/ServiceStatus')\n",
    "request = roslibpy.ServiceRequest()\n",
    "response = service.call(request, timeout=10)\n",
    "imshow(pickle.loads(base64.decodebytes(response['image']['data'].encode())))"
   ]
  },
  {
   "cell_type": "code",
   "execution_count": null,
   "metadata": {},
   "outputs": [],
   "source": [
    "ros.get_service_request_details('/open_aoi_interfaces/ImageAcquisition')"
   ]
  },
  {
   "cell_type": "code",
   "execution_count": null,
   "metadata": {},
   "outputs": [],
   "source": [
    "ros.get_nodes()"
   ]
  },
  {
   "cell_type": "code",
   "execution_count": null,
   "metadata": {},
   "outputs": [],
   "source": [
    "ros.get_node_details('/image_acquisition')"
   ]
  },
  {
   "cell_type": "code",
   "execution_count": null,
   "metadata": {},
   "outputs": [],
   "source": [
    "ros.get_services()"
   ]
  }
 ],
 "metadata": {
  "kernelspec": {
   "display_name": "venv",
   "language": "python",
   "name": "python3"
  },
  "language_info": {
   "codemirror_mode": {
    "name": "ipython",
    "version": 3
   },
   "file_extension": ".py",
   "mimetype": "text/x-python",
   "name": "python",
   "nbconvert_exporter": "python",
   "pygments_lexer": "ipython3",
   "version": "3.10.13"
  }
 },
 "nbformat": 4,
 "nbformat_minor": 2
}
