{
 "cells": [
  {
   "cell_type": "code",
   "execution_count": 14,
   "metadata": {},
   "outputs": [],
   "source": [
    "import cv2\n",
    "import numpy as np\n",
    "\n",
    "from scipy import stats\n",
    "from scipy import fftpack\n",
    "\n",
    "from dataset import imgs"
   ]
  },
  {
   "cell_type": "code",
   "execution_count": 2,
   "metadata": {},
   "outputs": [],
   "source": [
    "def shift(im: np.ndarray, w=3):\n",
    "    assert w % 2 != 0\n",
    "    assert im.shape[0] >= w\n",
    "    assert im.shape[1] >= w\n",
    "\n",
    "    offset = int(w / 2)\n",
    "\n",
    "    for i in range(0 + offset, im.shape[0] - offset + 1):\n",
    "        for j in range(0 + offset, im.shape[1] - offset + 1):\n",
    "            yield im[i - offset : i + offset + 1, j - offset : j + offset + 1]"
   ]
  },
  {
   "cell_type": "code",
   "execution_count": null,
   "metadata": {},
   "outputs": [],
   "source": [
    "def _ncc(s1, s2):\n",
    "    \"\"\"Implementation of Normalized Cross Correlation\"\"\"\n",
    "\n",
    "    s1 = (s1 - np.mean(s1)) / (np.std(s1))\n",
    "    s2 = (s2 - np.mean(s2)) / (np.std(s2))\n",
    "\n",
    "    return 1 / (s1.shape[0] * s1.shape[1]) * np.sum(np.multiply(s1, s2))\n",
    "\n",
    "\n",
    "def _ncc(s1, s2):\n",
    "    \"\"\"Implementation of Normalized Cross Correlation using CV2\"\"\"\n",
    "    return cv2.matchTemplate(s1, s2, method=cv2.TM_CCORR_NORMED)[0][0]\n",
    "\n",
    "\n",
    "def vec(s: np.ndarray):\n",
    "    \"\"\"Vectorization 2D image -> 1D feature vector\"\"\"\n",
    "    p = np.sum(s, axis=0)\n",
    "    h = np.sum(s, axis=1)\n",
    "    mx = np.concatenate((p, h))\n",
    "    return np.concatenate(\n",
    "        (\n",
    "            mx,\n",
    "            (\n",
    "                np.max(mx),\n",
    "                np.min(mx),\n",
    "                np.var(mx),\n",
    "                stats.mode(mx).mode,\n",
    "            ),\n",
    "        ),\n",
    "    )\n",
    "\n",
    "\n",
    "def _ncc(s1, s2):\n",
    "    \"\"\"Implementation of Improved Normalized Cross Correlation\"\"\"\n",
    "\n",
    "    v1 = vec(s1)\n",
    "    v2 = vec(s2)\n",
    "\n",
    "    v1 = fftpack.dct(v1, norm=\"ortho\")\n",
    "    v2 = fftpack.dct(v2, norm=\"ortho\")\n",
    "\n",
    "    v1 = (v1 - np.mean(v1)) / (np.std(v1))\n",
    "    v2 = (v2 - np.mean(v2)) / (np.std(v2))\n",
    "\n",
    "    return 1 / (len(v1)) * np.sum(np.multiply(s1, s2))"
   ]
  },
  {
   "cell_type": "code",
   "execution_count": null,
   "metadata": {},
   "outputs": [],
   "source": [
    "def ncc(im1: np.ndarray, im2: np.ndarray, w=3):\n",
    "    assert im1.shape[0] == im2.shape[0]\n",
    "    assert im1.shape[1] == im2.shape[1]\n",
    "\n",
    "    assert w % 2 != 0\n",
    "    assert im1.shape[0] >= w\n",
    "    assert im1.shape[1] >= w\n",
    "\n",
    "    offset = int(w / 2)\n",
    "\n",
    "    cor = np.zeros(im1.shape)\n",
    "    for i in range(0 + offset, im1.shape[0] - offset):\n",
    "        for j in range(0 + offset, im1.shape[1] - offset):\n",
    "            s1 = im1[i - offset : i + offset + 1, j - offset : j + offset + 1]\n",
    "            s2 = im2[i - offset : i + offset + 1, j - offset : j + offset + 1]\n",
    "\n",
    "            cor[i, j] = _ncc(s1, s2)\n",
    "\n",
    "    return cor\n",
    "\n",
    "\n",
    "i = 5\n",
    "w = 3\n",
    "\n",
    "im1 = imgs[i].im_original.source\n",
    "im2 = imgs[i].im_inpainted.source\n",
    "\n",
    "cor = ncc(im1, im2)"
   ]
  }
 ],
 "metadata": {
  "kernelspec": {
   "display_name": "vut-dp",
   "language": "python",
   "name": "python3"
  },
  "language_info": {
   "codemirror_mode": {
    "name": "ipython",
    "version": 3
   },
   "file_extension": ".py",
   "mimetype": "text/x-python",
   "name": "python",
   "nbconvert_exporter": "python",
   "pygments_lexer": "ipython3",
   "version": "3.10.13"
  }
 },
 "nbformat": 4,
 "nbformat_minor": 2
}
