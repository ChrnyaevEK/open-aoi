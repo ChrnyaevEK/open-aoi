{
 "cells": [
  {
   "cell_type": "code",
   "execution_count": 1,
   "metadata": {},
   "outputs": [],
   "source": [
    "import roslibpy"
   ]
  },
  {
   "cell_type": "code",
   "execution_count": 2,
   "metadata": {},
   "outputs": [
    {
     "name": "stdout",
     "output_type": "stream",
     "text": [
      "Status: True\n"
     ]
    }
   ],
   "source": [
    "ros = roslibpy.Ros(host=\"localhost\", port=9090)\n",
    "ros.on_ready(lambda: print(f\"Status: {ros.is_connected}\"))\n",
    "ros.run()"
   ]
  },
  {
   "cell_type": "code",
   "execution_count": null,
   "metadata": {},
   "outputs": [],
   "source": [
    "ros.terminate()"
   ]
  },
  {
   "cell_type": "code",
   "execution_count": 3,
   "metadata": {},
   "outputs": [
    {
     "data": {
      "text/plain": [
       "['/acquire_image',\n",
       " '/image_acquisition/describe_parameters',\n",
       " '/image_acquisition/get_parameter_types',\n",
       " '/image_acquisition/get_parameters',\n",
       " '/image_acquisition/list_parameters',\n",
       " '/image_acquisition/set_parameters',\n",
       " '/image_acquisition/set_parameters_atomically',\n",
       " '/rosapi/action_servers',\n",
       " '/rosapi/delete_param',\n",
       " '/rosapi/describe_parameters',\n",
       " '/rosapi/get_param',\n",
       " '/rosapi/get_param_names',\n",
       " '/rosapi/get_parameter_types',\n",
       " '/rosapi/get_parameters',\n",
       " '/rosapi/get_ros_version',\n",
       " '/rosapi/get_time',\n",
       " '/rosapi/has_param',\n",
       " '/rosapi/list_parameters',\n",
       " '/rosapi/message_details',\n",
       " '/rosapi/node_details',\n",
       " '/rosapi/nodes',\n",
       " '/rosapi/publishers',\n",
       " '/rosapi/service_node',\n",
       " '/rosapi/service_providers',\n",
       " '/rosapi/service_request_details',\n",
       " '/rosapi/service_response_details',\n",
       " '/rosapi/service_type',\n",
       " '/rosapi/services',\n",
       " '/rosapi/services_for_type',\n",
       " '/rosapi/set_param',\n",
       " '/rosapi/set_parameters',\n",
       " '/rosapi/set_parameters_atomically',\n",
       " '/rosapi/subscribers',\n",
       " '/rosapi/topic_type',\n",
       " '/rosapi/topics',\n",
       " '/rosapi/topics_and_raw_types',\n",
       " '/rosapi/topics_for_type',\n",
       " '/rosapi_params/describe_parameters',\n",
       " '/rosapi_params/get_parameter_types',\n",
       " '/rosapi_params/get_parameters',\n",
       " '/rosapi_params/list_parameters',\n",
       " '/rosapi_params/set_parameters',\n",
       " '/rosapi_params/set_parameters_atomically',\n",
       " '/rosbridge_websocket/describe_parameters',\n",
       " '/rosbridge_websocket/get_parameter_types',\n",
       " '/rosbridge_websocket/get_parameters',\n",
       " '/rosbridge_websocket/list_parameters',\n",
       " '/rosbridge_websocket/set_parameters',\n",
       " '/rosbridge_websocket/set_parameters_atomically']"
      ]
     },
     "execution_count": 3,
     "metadata": {},
     "output_type": "execute_result"
    }
   ],
   "source": [
    "ros.get_services()"
   ]
  }
 ],
 "metadata": {
  "kernelspec": {
   "display_name": "venv",
   "language": "python",
   "name": "python3"
  },
  "language_info": {
   "codemirror_mode": {
    "name": "ipython",
    "version": 3
   },
   "file_extension": ".py",
   "mimetype": "text/x-python",
   "name": "python",
   "nbconvert_exporter": "python",
   "pygments_lexer": "ipython3",
   "version": "3.10.13"
  }
 },
 "nbformat": 4,
 "nbformat_minor": 2
}
