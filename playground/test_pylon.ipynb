{
 "cells": [
  {
   "cell_type": "code",
   "execution_count": null,
   "metadata": {},
   "outputs": [],
   "source": [
    "# https://github.com/basler/pypylon/issues/73\n",
    "# https://docs.baslerweb.com/camera-emulation\n",
    "\n",
    "from pypylon import pylon\n",
    "\n",
    "import os\n",
    "os.environ[\"PYLON_CAMEMU\"] = \"1\"\n",
    "\n",
    "camera = pylon.InstantCamera(pylon.TlFactory.GetInstance().CreateFirstDevice())\n",
    "camera.Open()\n",
    "\n",
    "# demonstrate some feature access\n",
    "new_width = camera.Width.Value - camera.Width.Inc\n",
    "if new_width >= camera.Width.Min:\n",
    "    camera.Width.Value = new_width\n",
    "\n",
    "numberOfImagesToGrab = 1\n",
    "camera.StartGrabbingMax(numberOfImagesToGrab)\n",
    "\n",
    "while camera.IsGrabbing():\n",
    "    grabResult = camera.RetrieveResult(\n",
    "        5000, pylon.TimeoutHandling_ThrowException)\n",
    "\n",
    "    if grabResult.GrabSucceeded():\n",
    "        # Access the image data.\n",
    "        print(\"SizeX: \", grabResult.Width)\n",
    "        print(\"SizeY: \", grabResult.Height)\n",
    "        img = grabResult.Array\n",
    "        print(\"Gray value of first pixel: \", img[0, 0])\n",
    "\n",
    "    grabResult.Release()\n",
    "camera.Close()"
   ]
  }
 ],
 "metadata": {
  "language_info": {
   "name": "python"
  }
 },
 "nbformat": 4,
 "nbformat_minor": 2
}
